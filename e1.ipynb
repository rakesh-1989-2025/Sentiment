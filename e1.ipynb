{
 "cells": [
  {
   "cell_type": "code",
   "execution_count": 2,
   "id": "6107321d",
   "metadata": {},
   "outputs": [
    {
     "name": "stdout",
     "output_type": "stream",
     "text": [
      "Requirement already satisfied: streamlit in c:\\users\\rambali\\appdata\\local\\programs\\python\\python39\\lib\\site-packages (1.44.1)\n",
      "Requirement already satisfied: pandas in c:\\users\\rambali\\appdata\\local\\programs\\python\\python39\\lib\\site-packages (2.2.3)\n",
      "Requirement already satisfied: scikit-learn in c:\\users\\rambali\\appdata\\local\\programs\\python\\python39\\lib\\site-packages (1.6.1)\n",
      "Requirement already satisfied: nltk in c:\\users\\rambali\\appdata\\local\\programs\\python\\python39\\lib\\site-packages (3.9.1)\n",
      "Requirement already satisfied: joblib in c:\\users\\rambali\\appdata\\local\\programs\\python\\python39\\lib\\site-packages (1.4.2)\n",
      "Requirement already satisfied: pillow<12,>=7.1.0 in c:\\users\\rambali\\appdata\\local\\programs\\python\\python39\\lib\\site-packages (from streamlit) (11.2.1)\n",
      "Requirement already satisfied: tenacity<10,>=8.1.0 in c:\\users\\rambali\\appdata\\local\\programs\\python\\python39\\lib\\site-packages (from streamlit) (9.1.2)\n",
      "Requirement already satisfied: tornado<7,>=6.0.3 in c:\\users\\rambali\\appdata\\roaming\\python\\python39\\site-packages (from streamlit) (6.4.2)\n",
      "Requirement already satisfied: cachetools<6,>=4.0 in c:\\users\\rambali\\appdata\\local\\programs\\python\\python39\\lib\\site-packages (from streamlit) (5.5.2)\n",
      "Requirement already satisfied: blinker<2,>=1.0.0 in c:\\users\\rambali\\appdata\\local\\programs\\python\\python39\\lib\\site-packages (from streamlit) (1.9.0)\n",
      "Requirement already satisfied: numpy<3,>=1.23 in c:\\users\\rambali\\appdata\\local\\programs\\python\\python39\\lib\\site-packages (from streamlit) (2.0.2)\n",
      "Requirement already satisfied: toml<2,>=0.10.1 in c:\\users\\rambali\\appdata\\local\\programs\\python\\python39\\lib\\site-packages (from streamlit) (0.10.2)\n",
      "Requirement already satisfied: typing-extensions<5,>=4.4.0 in c:\\users\\rambali\\appdata\\roaming\\python\\python39\\site-packages (from streamlit) (4.13.2)\n",
      "Requirement already satisfied: watchdog<7,>=2.1.5 in c:\\users\\rambali\\appdata\\local\\programs\\python\\python39\\lib\\site-packages (from streamlit) (6.0.0)\n",
      "Requirement already satisfied: pydeck<1,>=0.8.0b4 in c:\\users\\rambali\\appdata\\local\\programs\\python\\python39\\lib\\site-packages (from streamlit) (0.9.1)\n",
      "Requirement already satisfied: packaging<25,>=20 in c:\\users\\rambali\\appdata\\local\\programs\\python\\python39\\lib\\site-packages (from streamlit) (24.2)\n",
      "Requirement already satisfied: altair<6,>=4.0 in c:\\users\\rambali\\appdata\\local\\programs\\python\\python39\\lib\\site-packages (from streamlit) (5.5.0)\n",
      "Requirement already satisfied: click<9,>=7.0 in c:\\users\\rambali\\appdata\\local\\programs\\python\\python39\\lib\\site-packages (from streamlit) (8.1.8)\n",
      "Requirement already satisfied: protobuf<6,>=3.20 in c:\\users\\rambali\\appdata\\local\\programs\\python\\python39\\lib\\site-packages (from streamlit) (5.29.4)\n",
      "Requirement already satisfied: requests<3,>=2.27 in c:\\users\\rambali\\appdata\\local\\programs\\python\\python39\\lib\\site-packages (from streamlit) (2.32.3)\n",
      "Requirement already satisfied: gitpython!=3.1.19,<4,>=3.0.7 in c:\\users\\rambali\\appdata\\local\\programs\\python\\python39\\lib\\site-packages (from streamlit) (3.1.44)\n",
      "Requirement already satisfied: pyarrow>=7.0 in c:\\users\\rambali\\appdata\\local\\programs\\python\\python39\\lib\\site-packages (from streamlit) (19.0.1)\n",
      "Requirement already satisfied: pytz>=2020.1 in c:\\users\\rambali\\appdata\\local\\programs\\python\\python39\\lib\\site-packages (from pandas) (2025.2)\n",
      "Requirement already satisfied: tzdata>=2022.7 in c:\\users\\rambali\\appdata\\local\\programs\\python\\python39\\lib\\site-packages (from pandas) (2025.2)\n",
      "Requirement already satisfied: python-dateutil>=2.8.2 in c:\\users\\rambali\\appdata\\roaming\\python\\python39\\site-packages (from pandas) (2.9.0.post0)\n",
      "Requirement already satisfied: threadpoolctl>=3.1.0 in c:\\users\\rambali\\appdata\\local\\programs\\python\\python39\\lib\\site-packages (from scikit-learn) (3.6.0)\n",
      "Requirement already satisfied: scipy>=1.6.0 in c:\\users\\rambali\\appdata\\local\\programs\\python\\python39\\lib\\site-packages (from scikit-learn) (1.13.1)\n",
      "Requirement already satisfied: regex>=2021.8.3 in c:\\users\\rambali\\appdata\\local\\programs\\python\\python39\\lib\\site-packages (from nltk) (2024.11.6)\n",
      "Requirement already satisfied: tqdm in c:\\users\\rambali\\appdata\\local\\programs\\python\\python39\\lib\\site-packages (from nltk) (4.67.1)\n",
      "Requirement already satisfied: narwhals>=1.14.2 in c:\\users\\rambali\\appdata\\local\\programs\\python\\python39\\lib\\site-packages (from altair<6,>=4.0->streamlit) (1.35.0)\n",
      "Requirement already satisfied: jinja2 in c:\\users\\rambali\\appdata\\local\\programs\\python\\python39\\lib\\site-packages (from altair<6,>=4.0->streamlit) (3.1.6)\n",
      "Requirement already satisfied: jsonschema>=3.0 in c:\\users\\rambali\\appdata\\local\\programs\\python\\python39\\lib\\site-packages (from altair<6,>=4.0->streamlit) (4.23.0)\n",
      "Requirement already satisfied: colorama in c:\\users\\rambali\\appdata\\roaming\\python\\python39\\site-packages (from click<9,>=7.0->streamlit) (0.4.6)\n",
      "Requirement already satisfied: gitdb<5,>=4.0.1 in c:\\users\\rambali\\appdata\\local\\programs\\python\\python39\\lib\\site-packages (from gitpython!=3.1.19,<4,>=3.0.7->streamlit) (4.0.12)\n",
      "Requirement already satisfied: smmap<6,>=3.0.1 in c:\\users\\rambali\\appdata\\local\\programs\\python\\python39\\lib\\site-packages (from gitdb<5,>=4.0.1->gitpython!=3.1.19,<4,>=3.0.7->streamlit) (5.0.2)\n",
      "Requirement already satisfied: jsonschema-specifications>=2023.03.6 in c:\\users\\rambali\\appdata\\local\\programs\\python\\python39\\lib\\site-packages (from jsonschema>=3.0->altair<6,>=4.0->streamlit) (2024.10.1)\n",
      "Requirement already satisfied: rpds-py>=0.7.1 in c:\\users\\rambali\\appdata\\local\\programs\\python\\python39\\lib\\site-packages (from jsonschema>=3.0->altair<6,>=4.0->streamlit) (0.24.0)\n",
      "Requirement already satisfied: referencing>=0.28.4 in c:\\users\\rambali\\appdata\\local\\programs\\python\\python39\\lib\\site-packages (from jsonschema>=3.0->altair<6,>=4.0->streamlit) (0.36.2)\n",
      "Requirement already satisfied: attrs>=22.2.0 in c:\\users\\rambali\\appdata\\local\\programs\\python\\python39\\lib\\site-packages (from jsonschema>=3.0->altair<6,>=4.0->streamlit) (25.3.0)\n",
      "Requirement already satisfied: MarkupSafe>=2.0 in c:\\users\\rambali\\appdata\\local\\programs\\python\\python39\\lib\\site-packages (from jinja2->altair<6,>=4.0->streamlit) (3.0.2)\n",
      "Requirement already satisfied: six>=1.5 in c:\\users\\rambali\\appdata\\roaming\\python\\python39\\site-packages (from python-dateutil>=2.8.2->pandas) (1.17.0)\n",
      "Requirement already satisfied: certifi>=2017.4.17 in c:\\users\\rambali\\appdata\\local\\programs\\python\\python39\\lib\\site-packages (from requests<3,>=2.27->streamlit) (2025.1.31)\n",
      "Requirement already satisfied: idna<4,>=2.5 in c:\\users\\rambali\\appdata\\local\\programs\\python\\python39\\lib\\site-packages (from requests<3,>=2.27->streamlit) (3.10)\n",
      "Requirement already satisfied: urllib3<3,>=1.21.1 in c:\\users\\rambali\\appdata\\local\\programs\\python\\python39\\lib\\site-packages (from requests<3,>=2.27->streamlit) (2.4.0)\n",
      "Requirement already satisfied: charset-normalizer<4,>=2 in c:\\users\\rambali\\appdata\\local\\programs\\python\\python39\\lib\\site-packages (from requests<3,>=2.27->streamlit) (3.4.1)\n",
      "Note: you may need to restart the kernel to use updated packages.\n"
     ]
    },
    {
     "name": "stderr",
     "output_type": "stream",
     "text": [
      "WARNING: You are using pip version 21.2.4; however, version 25.1.1 is available.\n",
      "You should consider upgrading via the 'c:\\Users\\Rambali\\AppData\\Local\\Programs\\Python\\Python39\\python.exe -m pip install --upgrade pip' command.\n"
     ]
    }
   ],
   "source": [
    "pip install streamlit pandas scikit-learn nltk joblib\n"
   ]
  },
  {
   "cell_type": "code",
   "execution_count": 3,
   "id": "2a59e8f1",
   "metadata": {},
   "outputs": [],
   "source": [
    "import pandas as pd"
   ]
  },
  {
   "cell_type": "code",
   "execution_count": 4,
   "id": "cd3f3872",
   "metadata": {},
   "outputs": [],
   "source": [
    " data = {\n",
    "    'text': [\n",
    "        'I love this product!', \n",
    "        'This is the worst experience ever.', \n",
    "        'Absolutely fantastic!', \n",
    "        'Not good, not bad.', \n",
    "        'I am very happy with the service.', \n",
    "        'I hate this.', \n",
    "        'Best purchase I made.', \n",
    "        'Terrible, will not buy again.'\n",
    "    ],\n",
    "    'label': [1, 0, 1, 0, 1, 0, 1, 0]  # 1: positive, 0: negative\n",
    "}"
   ]
  },
  {
   "cell_type": "code",
   "execution_count": 5,
   "id": "bd3e1bab",
   "metadata": {},
   "outputs": [],
   "source": [
    "df=pd.DataFrame(data)"
   ]
  },
  {
   "cell_type": "code",
   "execution_count": 6,
   "id": "ff5b299b",
   "metadata": {},
   "outputs": [],
   "source": [
    "from sklearn.model_selection import train_test_split\n",
    "from sklearn.feature_extraction.text import TfidfVectorizer\n",
    "from sklearn.linear_model import LogisticRegression\n",
    "import joblib"
   ]
  },
  {
   "cell_type": "code",
   "execution_count": null,
   "id": "76257176",
   "metadata": {},
   "outputs": [],
   "source": [
    "x_train, x_test, y_train, y_test = train_test_split(df['text'], df['label'], test_size=0.2, random_state=42)\n",
    "vectorizer = TfidfVectorizer()\n",
    "x_train_vectorized = vectorizer.fit_transform(x_train)\n",
    "model = LogisticRegression()\n",
    "model.fit(x_train_vectorized, y_train)\n",
    "joblib.dump(model, 'sentiment_model.pkl')\n",
    "joblib.dump(vectorizer, 'vectorizer.pkl')"
   ]
  }
 ],
 "metadata": {
  "kernelspec": {
   "display_name": "Python 3",
   "language": "python",
   "name": "python3"
  },
  "language_info": {
   "codemirror_mode": {
    "name": "ipython",
    "version": 3
   },
   "file_extension": ".py",
   "mimetype": "text/x-python",
   "name": "python",
   "nbconvert_exporter": "python",
   "pygments_lexer": "ipython3",
   "version": "3.9.8"
  }
 },
 "nbformat": 4,
 "nbformat_minor": 5
}
